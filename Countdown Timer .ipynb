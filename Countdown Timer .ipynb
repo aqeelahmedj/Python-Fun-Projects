{
 "cells": [
  {
   "cell_type": "markdown",
   "metadata": {},
   "source": [
    "# Countdown Timer "
   ]
  },
  {
   "cell_type": "markdown",
   "metadata": {},
   "source": [
    "Hey Folks! <br>\n",
    "Let us have some fun with python basics. I am writing a function that will\n",
    "create time counter. Its easy and fun ! \n"
   ]
  },
  {
   "cell_type": "code",
   "execution_count": 1,
   "metadata": {},
   "outputs": [],
   "source": [
    "import time "
   ]
  },
  {
   "cell_type": "code",
   "execution_count": 2,
   "metadata": {},
   "outputs": [
    {
     "name": "stdout",
     "output_type": "stream",
     "text": [
      "Set Your Time in Sec: 10\n",
      "Your time finish in :  10 seconds\n",
      "Your time finish in :  9 seconds\n",
      "Your time finish in :  8 seconds\n",
      "Your time finish in :  7 seconds\n",
      "Your time finish in :  6 seconds\n",
      "Your time finish in :  5 seconds\n",
      "Your time finish in :  4 seconds\n",
      "Your time finish in :  3 seconds\n",
      "Your time finish in :  2 seconds\n",
      "Your time finish in :  1 seconds\n"
     ]
    }
   ],
   "source": [
    "def countdown(time_sec):\n",
    "    while time_sec:\n",
    "        mins, secs, = divmod(time_sec, 60)\n",
    "        timeformat= '{:02d}:{:02d}'.format(mins, secs)\n",
    "        print(timeformat, end = '\\r')\n",
    "        time.sleep(1)\n",
    "        time_sec -=1\n",
    "        \n",
    "        print(\"Your time finish in : \", secs,  \"seconds\")\n",
    "        \n",
    "num = int (input(\"Set Your Time in Sec: \"))\n",
    "countdown(num)"
   ]
  },
  {
   "cell_type": "code",
   "execution_count": null,
   "metadata": {},
   "outputs": [],
   "source": []
  },
  {
   "cell_type": "code",
   "execution_count": null,
   "metadata": {},
   "outputs": [],
   "source": []
  }
 ],
 "metadata": {
  "kernelspec": {
   "display_name": "Python 3",
   "language": "python",
   "name": "python3"
  },
  "language_info": {
   "codemirror_mode": {
    "name": "ipython",
    "version": 3
   },
   "file_extension": ".py",
   "mimetype": "text/x-python",
   "name": "python",
   "nbconvert_exporter": "python",
   "pygments_lexer": "ipython3",
   "version": "3.8.5"
  }
 },
 "nbformat": 4,
 "nbformat_minor": 4
}
